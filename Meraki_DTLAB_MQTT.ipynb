{
 "cells": [
  {
   "cell_type": "markdown",
   "id": "4d69e63a",
   "metadata": {},
   "source": [
    "# IMPORTANTE\n",
    "\n",
    "Questo file viene utilizzato per provare le chiamate API sfruttando la camera fornita dal Cisco DTLab. \n",
    "\n",
    "Essendo più a diretto contatto con il DTLab, alcune funzionalità, come la creazione di un broker MQTT all'interno della rete, possono essere sperimentate più facilmente\n",
    "\n",
    "Non rappresenta quindi il prodotto finale\n"
   ]
  },
  {
   "cell_type": "markdown",
   "id": "57d93365",
   "metadata": {},
   "source": [
    "### Imports e credenziali ☑️"
   ]
  },
  {
   "cell_type": "code",
   "execution_count": null,
   "id": "a293387c",
   "metadata": {},
   "outputs": [],
   "source": [
    "import requests\n",
    "import meraki\n",
    "import credentials as cr\n",
    "import time\n",
    "import os\n",
    "\n",
    "from pprint import pprint\n",
    "\n",
    "API_KEY = cr.MERAKI_KEY_ABITAREIN_ADMIN\n",
    "BASE_URL = \"https://api.meraki.com/api/v1/organizations/\"\n",
    "\n",
    "dashboard = meraki.DashboardAPI(api_key=API_KEY, output_log=True, print_console=True, log_path='logs/') \n",
    "organizations = dashboard.organizations.getOrganizations()"
   ]
  },
  {
   "cell_type": "markdown",
   "id": "ee204f5f",
   "metadata": {},
   "source": [
    "### Organizzazione ☑️"
   ]
  },
  {
   "cell_type": "code",
   "execution_count": null,
   "id": "0d2c99ef",
   "metadata": {},
   "outputs": [],
   "source": [
    "ORG_ID = organizations[0]['id']\n",
    "print (ORG_ID)"
   ]
  },
  {
   "cell_type": "markdown",
   "id": "bef32f96",
   "metadata": {},
   "source": [
    "### Network ☑️"
   ]
  },
  {
   "cell_type": "code",
   "execution_count": null,
   "id": "28602d3a",
   "metadata": {},
   "outputs": [],
   "source": [
    "response_netID = dashboard.organizations.getOrganizationNetworks(ORG_ID)  \n",
    "print(response_netID)\n",
    "NETWORK_ID = response_netID[0]['id']\n",
    "\n",
    "print(NETWORK_ID)"
   ]
  },
  {
   "cell_type": "markdown",
   "id": "19741926",
   "metadata": {},
   "source": [
    "### Ottenimento seriali di tutti i dispositivi ☑️"
   ]
  },
  {
   "cell_type": "code",
   "execution_count": null,
   "id": "733ef129",
   "metadata": {},
   "outputs": [],
   "source": [
    "response_serial = dashboard.organizations.getOrganizationDevices(ORG_ID)\n",
    "print(response_serial)"
   ]
  },
  {
   "cell_type": "markdown",
   "id": "bec441a2",
   "metadata": {},
   "source": [
    "### Categorizzazione seriali dei dispositivi ☑️"
   ]
  },
  {
   "cell_type": "code",
   "execution_count": null,
   "id": "0f18d252",
   "metadata": {},
   "outputs": [],
   "source": [
    "\n",
    "\n",
    "SERIAL = response_serial[0]['serial']\n",
    "DEVICE_MODEL = response_serial[0]['model']\n",
    "DEVICE_PRODUCT = response_serial[0]['productType']\n",
    "\n",
    "DEVICE = {}\n",
    "i = 0\n",
    "# To specify a range, use slicing. For example, to get the first 3 serials:\n",
    "for device in response_serial[0:3]:\n",
    "    DEVICE[i] = {\n",
    "        \"NUMBER\": i,\n",
    "        \"SERIAL\": device['serial'],\n",
    "        \"DEVICE_MODEL\": device['model'],\n",
    "        \"DEVICE_PRODUCT\": device['productType'],\n",
    "        \"MAC_ADDRESS\" : device['mac'],\n",
    "        \"HAS_A_UPLINK\" : None,\n",
    "        \"DEVICE_UPLINK\" : None\n",
    "    }\n",
    "    i = i+1\n",
    "pprint(DEVICE)\n"
   ]
  },
  {
   "cell_type": "markdown",
   "id": "fe37bf20",
   "metadata": {},
   "source": [
    "### Dispositivi raggiungibili nella rete ☑️"
   ]
  },
  {
   "cell_type": "code",
   "execution_count": null,
   "id": "076d2f37",
   "metadata": {},
   "outputs": [],
   "source": [
    "response_uplink = dashboard.organizations.getOrganizationDevicesUplinksAddressesByDevice(ORG_ID, serials=[SERIAL])\n",
    "\n",
    "pprint(response_uplink)"
   ]
  },
  {
   "cell_type": "markdown",
   "id": "1263a333",
   "metadata": {},
   "source": [
    "### Viene effettuata una correlazione tra dispositivi raggiungibili nella rete e dispositivi presenti. Dopodiché, vengono stampati i dispositivi rilevati ☑️"
   ]
  },
  {
   "cell_type": "code",
   "execution_count": null,
   "id": "aae73fb4",
   "metadata": {},
   "outputs": [],
   "source": [
    "i = 0\n",
    "UPLINK_DEVICE = {}\n",
    "for device in response_uplink[0:3]:\n",
    "    UPLINK_DEVICE[i] = {\n",
    "        \"NUMBER\": i,\n",
    "        \"SERIAL\": device['serial'],\n",
    "        \"DEVICE_PRODUCT\": device['productType'],\n",
    "        \"DEVICE_UPLINK\" : device['uplinks'] # Uplinks è un dizionario con due campi, indirizzi e interfacce. Indirizzi a sua volta è un dizionario con indirizzo pubblico, modalità di assegnamento, nameserver, interfaccia fisica, protocollo, indirizzo pubblico e vlan di appartenenza\n",
    "    }\n",
    "    i = i+1\n",
    "\n",
    "for idx, device in DEVICE.items():\n",
    "    serial = device[\"SERIAL\"]\n",
    "    uplink_info = next((uplink for uplink in UPLINK_DEVICE.values() if uplink[\"SERIAL\"] == serial), None)\n",
    "    if uplink_info:\n",
    "        DEVICE[idx][\"HAS_A_UPLINK\"] = True\n",
    "        DEVICE[idx][\"DEVICE_UPLINK\"] = uplink_info[\"DEVICE_UPLINK\"]\n",
    "    else:\n",
    "        DEVICE[idx][\"HAS_A_UPLINK\"] = False\n",
    "        DEVICE[idx][\"DEVICE_UPLINK\"] = None\n",
    "\n",
    "pprint(DEVICE)"
   ]
  },
  {
   "cell_type": "markdown",
   "id": "ff557e77",
   "metadata": {},
   "source": [
    "### Vengono individuate le camere ☑️"
   ]
  },
  {
   "cell_type": "code",
   "execution_count": null,
   "id": "3634f9a6",
   "metadata": {},
   "outputs": [],
   "source": [
    "# Trova il seriale di un dispositivo che è una camera\n",
    "SERIAL_CAMERA = 'Q2LU-EDMJ-3X4W'\n"
   ]
  },
  {
   "cell_type": "code",
   "execution_count": null,
   "id": "29e02840",
   "metadata": {},
   "outputs": [],
   "source": [
    "name = 'MQTT_Broker'\n",
    "host = 'mqtt.merakiabitarein.app'\n",
    "port = 80\n"
   ]
  },
  {
   "cell_type": "markdown",
   "id": "ea02e4a3",
   "metadata": {},
   "source": [
    "### Impostazione MQTT broker nella rete(da fare una sola volta) ☑️"
   ]
  },
  {
   "cell_type": "code",
   "execution_count": null,
   "id": "c5f93cb3",
   "metadata": {},
   "outputs": [],
   "source": [
    "\n",
    "try:\n",
    "    response = dashboard.networks.createNetworkMqttBroker(\n",
    "        NETWORK_ID,\n",
    "        name=name,\n",
    "        host=host,\n",
    "        port=port,\n",
    "        security={'mode': 'none'},\n",
    "        authentication={'username': 'abitarein', 'password': 'abitarein'}\n",
    "    )\n",
    "    print(response)\n",
    "except meraki.APIError as e:\n",
    "    print(\"Meraki API Error:\", e)\n",
    "    print(\"Response:\", e.response.text)\n",
    "except Exception as ex:\n",
    "    print(\"General Exception:\", ex)"
   ]
  },
  {
   "cell_type": "markdown",
   "id": "bf5a38f2",
   "metadata": {},
   "source": [
    "### Imposta MVSense con MQTT Broker (Da fare una sola volta)"
   ]
  },
  {
   "cell_type": "code",
   "execution_count": null,
   "id": "7f7a5f5c",
   "metadata": {},
   "outputs": [],
   "source": [
    "response_set_mvsense = dashboard.camera.updateDeviceCameraSense(\n",
    "    SERIAL_CAMERA, \n",
    "    senseEnabled=True, \n",
    "    mqttBrokerId=cr.MQTT_BROKER_ID_THU, \n",
    "    audioDetection={'enabled': False}\n",
    ")\n",
    "\n",
    "print(response_set_mvsense)\n",
    "\n"
   ]
  },
  {
   "cell_type": "markdown",
   "id": "629141f7",
   "metadata": {},
   "source": [
    "#### Codice broker mqtt"
   ]
  },
  {
   "cell_type": "code",
   "execution_count": null,
   "id": "8b9d32b9",
   "metadata": {},
   "outputs": [],
   "source": [
    "import time\n",
    "\n",
    "import paho.mqtt.client as mqtt\n",
    "\n",
    "def start_meraki_camera_mqtt_client():\n",
    "    topic = f\"/testopic\"\n",
    "    broker = 'mqtt.merakiabitarein.app'\n",
    "    port_num = 80\n",
    "    username = \"abitarein\"\n",
    "    password = \"abitarein\"\n",
    "\n",
    "    def on_connect(client, userdata, flags, reason_code, properties):\n",
    "        print(f\"Connected with result code {reason_code}\")\n",
    "        # Subscribing in on_connect() means that if we lose the connection and\n",
    "        # reconnect then subscriptions will be renewed.\n",
    "        client.subscribe(\"$SYS/#\")\n",
    "\n",
    "    # The callback for when a PUBLISH message is received from the server.\n",
    "    def on_message(client, userdata, msg):\n",
    "        print(msg.topic+\" \"+str(msg.payload))\n",
    "\n",
    "    client = mqtt.Client(callback_api_version=mqtt.CallbackAPIVersion.VERSION2, client_id=\"pclient\")\n",
    "    client.username_pw_set(username, password)\n",
    "    client.on_message = on_message\n",
    "    client.on_connect = on_connect\n",
    "\n",
    "    client.connect(broker, port_num,60)\n",
    "    client.subscribe(topic)\n",
    "\n",
    "    print(f\"Subscribed to topic: {topic}\")\n",
    "    client.loop_start()\n",
    "    print(\"MQTT client started.\")\n",
    "\n",
    "start_meraki_camera_mqtt_client()\n",
    "\n",
    "\n",
    "try:\n",
    "    while True:\n",
    "        time.sleep(1)\n",
    "except KeyboardInterrupt:\n",
    "    print(\"Stopped MQTT client.\")\n"
   ]
  },
  {
   "cell_type": "markdown",
   "id": "df384941",
   "metadata": {},
   "source": [
    "#### publisher mqtt\n"
   ]
  },
  {
   "cell_type": "code",
   "execution_count": null,
   "id": "72e015e0",
   "metadata": {},
   "outputs": [],
   "source": [
    "from random import randrange, uniform\n",
    "import time\n",
    "\n",
    "broker = \"mqtt.merakiabitarein.app\"\n",
    "port = 80\n",
    "client = mqtt.Client(callback_api_version=mqtt.CallbackAPIVersion.VERSION2, client_id=\"prova\")\n",
    "client.username_pw_set(\"abitarein\", \"abitarein\")\n",
    "client.connect(broker, port)\n",
    "\n",
    "while True:\n",
    "    randNumber = uniform(20.0, 21.0)\n",
    "    client.publish(topic = \"/testopic\",  payload = randNumber)\n",
    "    print(\"published\")\n",
    "    time.sleep(1)\n"
   ]
  }
 ],
 "metadata": {
  "kernelspec": {
   "display_name": "Python 3",
   "language": "python",
   "name": "python3"
  },
  "language_info": {
   "codemirror_mode": {
    "name": "ipython",
    "version": 3
   },
   "file_extension": ".py",
   "mimetype": "text/x-python",
   "name": "python",
   "nbconvert_exporter": "python",
   "pygments_lexer": "ipython3",
   "version": "3.13.7"
  }
 },
 "nbformat": 4,
 "nbformat_minor": 5
}
