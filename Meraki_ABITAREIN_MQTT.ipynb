{
 "cells": [
  {
   "cell_type": "markdown",
   "id": "4d69e63a",
   "metadata": {},
   "source": [
    "# IMPORTANTE\n",
    "\n",
    "Questo file viene utilizzato per provare le chiamate API sfruttando la camera fornita dal Cisco DTLab. \n",
    "\n",
    "Essendo più a diretto contatto con il DTLab, alcune funzionalità, come la creazione di un broker MQTT all'interno della rete, possono essere sperimentate più facilmente\n",
    "\n",
    "Non rappresenta quindi il prodotto finale\n"
   ]
  },
  {
   "cell_type": "markdown",
   "id": "86bd1b3f",
   "metadata": {},
   "source": [
    "### Cancella snapshot"
   ]
  },
  {
   "cell_type": "code",
   "execution_count": 1,
   "id": "e8f9a66f",
   "metadata": {},
   "outputs": [
    {
     "name": "stdout",
     "output_type": "stream",
     "text": [
      "Deleted directory and all contents: c:\\Users\\Simonee\\Desktop\\ACSM - Advanced Construction Site Monitoring\\camera_snapshot\n"
     ]
    }
   ],
   "source": [
    "### Cancella camera_snapshot\n",
    "import os\n",
    "import shutil\n",
    "\n",
    "dir_name = \"camera_snapshot\"\n",
    "abs_dir = os.path.abspath(dir_name)\n",
    "cwd = os.path.abspath(os.getcwd())\n",
    "\n",
    "if not os.path.exists(abs_dir):\n",
    "    print(f\"Directory not found: {abs_dir}\")\n",
    "else:\n",
    "    # safety: only remove if the directory is inside the current working directory\n",
    "    if os.path.commonpath([cwd, abs_dir]) != cwd:\n",
    "        print(f\"Refusing to delete directory outside the current working directory: {abs_dir}\")\n",
    "    else:\n",
    "        try:\n",
    "            shutil.rmtree(abs_dir)\n",
    "            print(f\"Deleted directory and all contents: {abs_dir}\")\n",
    "        except Exception as e:\n",
    "            print(f\"Error while deleting {abs_dir}: {e}\")\n"
   ]
  },
  {
   "cell_type": "markdown",
   "id": "cdfa395d",
   "metadata": {},
   "source": []
  },
  {
   "cell_type": "markdown",
   "id": "57d93365",
   "metadata": {},
   "source": [
    "### Imports e credenziali ☑️"
   ]
  },
  {
   "cell_type": "code",
   "execution_count": null,
   "id": "a293387c",
   "metadata": {},
   "outputs": [
    {
     "name": "stderr",
     "output_type": "stream",
     "text": [
      "2025-09-21 13:07:52       meraki:     INFO > Meraki dashboard API session initialized with these parameters: {'version': '2.0.3', 'api_key': '************************************4b76', 'base_url': 'https://api.meraki.com/api/v1', 'single_request_timeout': 60, 'certificate_path': '', 'requests_proxy': '', 'wait_on_rate_limit': True, 'nginx_429_retry_wait_time': 60, 'action_batch_retry_wait_time': 60, 'network_delete_retry_wait_time': 240, 'retry_4xx_error': False, 'retry_4xx_error_wait_time': 60, 'maximum_retries': 2, 'simulate': False, 'be_geo_id': None, 'caller': None, 'use_iterator_for_get_pages': False}\n",
      "2025-09-21 13:07:52       meraki:     INFO > GET https://api.meraki.com/api/v1/organizations\n",
      "2025-09-21 13:07:52       meraki:     INFO > organizations, getOrganizations; page 1 - 200 OK\n"
     ]
    }
   ],
   "source": [
    "import requests\n",
    "import meraki\n",
    "import credentials as cr\n",
    "import time\n",
    "import os\n",
    "\n",
    "from pprint import pprint\n",
    "\n",
    "API_KEY = cr.MERAKI_KEY_ABITAREIN_ADMIN\n",
    "BASE_URL = \"https://api.meraki.com/api/v1/organizations/\"\n",
    "\n",
    "dashboard = meraki.DashboardAPI(api_key=API_KEY, output_log=True, print_console=True, log_path='logs/') \n",
    "organizations = dashboard.organizations.getOrganizations()"
   ]
  },
  {
   "cell_type": "markdown",
   "id": "ee204f5f",
   "metadata": {},
   "source": [
    "### Organizzazione ☑️"
   ]
  },
  {
   "cell_type": "code",
   "execution_count": 2,
   "id": "0d2c99ef",
   "metadata": {},
   "outputs": [
    {
     "name": "stdout",
     "output_type": "stream",
     "text": [
      "1194841\n"
     ]
    }
   ],
   "source": [
    "ORG_ID = organizations[0]['id']\n",
    "print (ORG_ID)"
   ]
  },
  {
   "cell_type": "markdown",
   "id": "bef32f96",
   "metadata": {},
   "source": [
    "### Network ☑️"
   ]
  },
  {
   "cell_type": "code",
   "execution_count": 3,
   "id": "28602d3a",
   "metadata": {},
   "outputs": [
    {
     "name": "stderr",
     "output_type": "stream",
     "text": [
      "2025-09-21 13:07:54       meraki:     INFO > GET https://api.meraki.com/api/v1/organizations/1194841/networks\n",
      "2025-09-21 13:07:54       meraki:     INFO > organizations, getOrganizationNetworks; page 1 - 200 OK\n"
     ]
    },
    {
     "name": "stdout",
     "output_type": "stream",
     "text": [
      "[{'id': 'L_575897802350018094', 'organizationId': '1194841', 'name': 'THU', 'productTypes': ['appliance', 'camera', 'cellularGateway', 'sensor', 'switch', 'wireless'], 'timeZone': 'Europe/Rome', 'tags': ['THU'], 'enrollmentString': None, 'url': 'https://n23.meraki.com/THU-appliance/n/nD7Xvdx/manage/clients', 'notes': 'Viale Certosa, 75 Milano', 'isBoundToConfigTemplate': False, 'isVirtual': False}, {'id': 'L_575897802350019550', 'organizationId': '1194841', 'name': 'HOM_BIS', 'productTypes': ['appliance', 'camera', 'cellularGateway', 'sensor', 'switch', 'wireless'], 'timeZone': 'Europe/Rome', 'tags': ['HOM_BIS'], 'enrollmentString': None, 'url': 'https://n23.meraki.com/HOM_BIS-applianc/n/BMRb4dx/manage/clients', 'notes': None, 'isBoundToConfigTemplate': False, 'isVirtual': False}, {'id': 'L_575897802350020686', 'organizationId': '1194841', 'name': 'B12', 'productTypes': ['appliance', 'camera', 'cellularGateway', 'sensor', 'switch', 'wireless'], 'timeZone': 'Europe/Rome', 'tags': ['B12'], 'enrollmentString': None, 'url': 'https://n23.meraki.com/B12-appliance/n/eBXL0dx/manage/clients', 'notes': None, 'isBoundToConfigTemplate': False, 'isVirtual': False}]\n",
      "L_575897802350018094\n"
     ]
    }
   ],
   "source": [
    "response_netID = dashboard.organizations.getOrganizationNetworks(ORG_ID)  \n",
    "print(response_netID)\n",
    "NETWORK_ID = response_netID[0]['id']\n",
    "\n",
    "print(NETWORK_ID)"
   ]
  },
  {
   "cell_type": "markdown",
   "id": "19741926",
   "metadata": {},
   "source": [
    "### Ottenimento seriali di tutti i dispositivi ☑️"
   ]
  },
  {
   "cell_type": "code",
   "execution_count": 4,
   "id": "733ef129",
   "metadata": {},
   "outputs": [
    {
     "name": "stderr",
     "output_type": "stream",
     "text": [
      "2025-09-21 13:07:55       meraki:     INFO > GET https://api.meraki.com/api/v1/organizations/1194841/devices\n",
      "2025-09-21 13:07:56       meraki:     INFO > organizations, getOrganizationDevices; page 1 - 200 OK\n"
     ]
    },
    {
     "name": "stdout",
     "output_type": "stream",
     "text": [
      "[{'name': 'HOM_BIS-MV93', 'serial': 'Q2LU-EDMJ-3X4W', 'mac': '08:f1:b3:e3:ae:65', 'networkId': 'L_575897802350019550', 'productType': 'camera', 'model': 'MV93', 'address': 'Via Bistolfi, 7 Milano', 'lat': 45.47216225053124, 'lng': 9.24452304840088, 'notes': '', 'tags': [], 'lanIp': '10.20.0.4', 'configurationUpdatedAt': '2025-08-03T02:00:19Z', 'firmware': 'camera-7-0', 'url': 'https://n23.meraki.com/HOM_BIS-camera/n/K-kinax/manage/nodes/new_list/9834198183525', 'details': [{'name': 'Running software version', 'value': 'MV 7.0'}]}, {'name': 'THU-MV93', 'serial': 'Q2LU-UZAF-F8ZH', 'mac': '08:f1:b3:e3:b0:15', 'networkId': 'L_575897802350018094', 'productType': 'camera', 'model': 'MV93', 'address': 'via bombay 1/5 roma', 'lat': 41.82262, 'lng': 12.44557, 'notes': '', 'tags': [], 'lanIp': '10.20.1.2', 'configurationUpdatedAt': '2025-09-07T14:07:11Z', 'firmware': 'camera-7-0', 'url': 'https://n23.meraki.com/THU-camera/n/pU8Ozcx/manage/nodes/new_list/9834198183957', 'details': [{'name': 'Running software version', 'value': 'MV 7.0'}]}, {'name': 'B12-MV93', 'serial': 'Q2LU-XAD9-GLD5', 'mac': '08:f1:b3:e3:ae:fe', 'networkId': 'L_575897802350020686', 'productType': 'camera', 'model': 'MV93', 'address': 'Via balduccio 12 milano', 'lat': 45.44244, 'lng': 9.20734, 'notes': '', 'tags': [], 'lanIp': '10.20.2.2', 'configurationUpdatedAt': '2025-07-23T14:08:53Z', 'firmware': 'camera-7-0', 'url': 'https://n23.meraki.com/B12-camera/n/PezIhbx/manage/nodes/new_list/9834198183678', 'details': [{'name': 'Running software version', 'value': 'MV 7.0'}]}, {'name': 'BOM-MX68CW', 'serial': 'Q2MY-C5V3-QFXB', 'imei': 353593090047520, 'mac': 'ac:17:c8:c4:c1:73', 'networkId': 'L_575897802350018094', 'productType': 'appliance', 'model': 'MX68CW-NA', 'address': 'Viale Certosa, 75 Milano', 'lat': 45.4917, 'lng': 9.1474, 'notes': '', 'tags': [], 'wan1Ip': '192.168.1.134', 'wan2Ip': None, 'configurationUpdatedAt': '2025-07-15T08:18:21Z', 'firmware': 'wired-18-2-11', 'url': 'https://n23.meraki.com/THU-appliance/n/nD7Xvdx/manage/nodes/new_list/189218152563059', 'details': [{'name': 'Running software version', 'value': 'MX 18.211.2'}]}, {'name': 'HOM_BIS-MX68CW', 'serial': 'Q2NY-RFW9-BW4P', 'imei': 357176091950037, 'mac': '14:9f:43:2d:38:c8', 'networkId': 'L_575897802350019550', 'productType': 'appliance', 'model': 'MX68CW-WW', 'address': 'Via Bistolfi, 7 Milano', 'lat': 45.472139679553706, 'lng': 9.244506955146791, 'notes': '', 'tags': [], 'wan1Ip': '192.168.1.188', 'wan2Ip': None, 'configurationUpdatedAt': '2025-08-27T05:24:52Z', 'firmware': 'wired-18-2-11', 'url': 'https://n23.meraki.com/HOM_BIS-applianc/n/BMRb4dx/manage/nodes/new_list/22674259392712', 'details': [{'name': 'Running software version', 'value': 'MX 18.211.2'}]}, {'name': 'B12-MX68CW', 'serial': 'Q2NY-RZPF-VLNZ', 'imei': 357176092015079, 'mac': '14:9f:43:2d:40:58', 'networkId': 'L_575897802350020686', 'productType': 'appliance', 'model': 'MX68CW-WW', 'address': 'Via Balduccio 12 milano', 'lat': 45.44244, 'lng': 9.20734, 'notes': '', 'tags': [], 'wan1Ip': '192.168.1.25', 'wan2Ip': None, 'configurationUpdatedAt': '2025-07-23T13:49:31Z', 'firmware': 'wired-18-2-11', 'url': 'https://n23.meraki.com/B12-appliance/n/eBXL0dx/manage/nodes/new_list/22674259394648', 'details': [{'name': 'Running software version', 'value': 'MX 18.211.6'}]}, {'name': 'HOM_BIS-MR76', 'serial': 'Q3AK-56E7-C88H', 'mac': '0c:7b:c8:ab:10:de', 'networkId': 'L_575897802350019550', 'productType': 'wireless', 'model': 'MR76', 'address': 'Via Bistolfi, 7 Milano', 'lat': 45.472154726873065, 'lng': 9.24452304840088, 'notes': '', 'tags': [], 'lanIp': '10.20.0.3', 'configurationUpdatedAt': '2025-08-06T09:59:28Z', 'firmware': 'wireless-31-1-5', 'url': 'https://n23.meraki.com/HOM_BIS-wireless/n/f9a7Ycx/manage/nodes/new_list/13725787164894', 'details': [{'name': 'Running software version', 'value': 'MR 31.1.5.1'}]}, {'name': 'B12-MR76', 'serial': 'Q3AK-5DVY-2SUP', 'mac': 'e4:55:a8:23:e8:86', 'networkId': 'L_575897802350020686', 'productType': 'wireless', 'model': 'MR76', 'address': 'Via Balduccio 12 Milano', 'lat': 45.44244, 'lng': 9.20734, 'notes': '', 'tags': ['recently-added'], 'lanIp': '10.20.2.3', 'configurationUpdatedAt': '2025-09-20T13:33:39Z', 'firmware': 'wireless-31-1-7', 'url': 'https://n23.meraki.com/B12-wireless/n/CsFqCdx/manage/nodes/new_list/251056544278662', 'details': [{'name': 'Running software version', 'value': 'MR 31.1.7.1'}]}, {'name': 'B12-MT20- BARACCA', 'serial': 'Q3CC-UKF8-ZNJT', 'mac': 'cc:9c:3e:3c:c6:75', 'networkId': 'L_575897802350020686', 'productType': 'sensor', 'model': 'MT20', 'address': 'via balduccio 12 milano', 'lat': 45.44244, 'lng': 9.20734, 'notes': '', 'tags': ['recently-added'], 'lanIp': None, 'configurationUpdatedAt': '2025-07-23T15:35:54Z', 'firmware': 'mt-2-0-1', 'url': 'https://n23.meraki.com/B12-environmenta/n/pBZqDax/manage/nodes/new_list/224971431134837', 'sensor': {'metrics': ['door', 'battery'], 'alertProfileIds': [], 'alertingOn': []}, 'details': [{'name': 'Running software version', 'value': 'MT 2.0.1'}]}, {'name': 'B12-MS120-8FP', 'serial': 'Q4DB-P6E7-YVFZ', 'mac': 'e0:d3:b4:06:ba:23', 'networkId': 'L_575897802350020686', 'productType': 'switch', 'model': 'MS120-8FP', 'address': 'Via Balduccio 12 milano', 'lat': 45.44244, 'lng': 9.20734, 'notes': '', 'tags': [], 'lanIp': '10.20.2.4', 'configurationUpdatedAt': '2025-07-23T14:08:53Z', 'firmware': 'switch-17-2-1', 'url': 'https://n23.meraki.com/B12-switch/n/oCZ3Ddx/manage/nodes/new_list/247199863061027', 'details': [{'name': 'Running software version', 'value': 'MS 17.2.1.1'}]}, {'name': 'HOM_BIS-MS120-8FP', 'serial': 'Q4DB-PBNC-6FEP', 'mac': 'e0:d3:b4:06:ba:91', 'networkId': 'L_575897802350019550', 'productType': 'switch', 'model': 'MS120-8FP', 'address': 'Via Bistolfi, 7 Milano', 'lat': 45.47214344138391, 'lng': 9.24452841281891, 'notes': '', 'tags': [], 'lanIp': '10.20.0.2', 'configurationUpdatedAt': '2025-08-07T13:11:44Z', 'firmware': 'switch-16-9', 'url': 'https://n23.meraki.com/HOM_BIS-switch/n/GgfWQcx/manage/nodes/new_list/247199863061137', 'details': [{'name': 'Running software version', 'value': 'MS 16.9'}]}, {'name': 'THU-MS120-8P', 'serial': 'Q4DB-Z62E-VPKZ', 'mac': 'e0:d3:b4:05:59:c0', 'networkId': 'L_575897802350018094', 'productType': 'switch', 'model': 'MS120-8FP', 'address': 'Via Bombay 1, Roma', 'lat': 41.82244195607782, 'lng': 12.445144057273867, 'notes': '', 'tags': [], 'lanIp': '10.20.1.3', 'configurationUpdatedAt': '2025-07-14T16:25:44Z', 'firmware': 'switch-16-8', 'url': 'https://n23.meraki.com/THU-switch/n/p_8N_ax/manage/nodes/new_list/247199862970816', 'details': [{'name': 'Running software version', 'value': 'MS 16.8'}]}, {'name': 'BOM-CW9164I', 'serial': 'Q5AL-Z3VU-UHJV', 'mac': 'c4:d6:66:e2:f6:90', 'networkId': 'L_575897802350018094', 'productType': 'wireless', 'model': 'CW9164I', 'address': 'Via Bombay 1, Roma', 'lat': 41.82237399609221, 'lng': 12.445245981216432, 'notes': '', 'tags': [], 'lanIp': '192.168.1.66', 'configurationUpdatedAt': '2025-02-16T23:53:15Z', 'firmware': 'wireless-31-1-5', 'url': 'https://n23.meraki.com/THU-wireless/n/ZqCfdbx/manage/nodes/new_list/216425128195728', 'details': [{'name': 'Catalyst serial', 'value': 'WNT2750048V'}, {'name': 'Running software version', 'value': 'MR 31.1.5.1'}]}]\n"
     ]
    }
   ],
   "source": [
    "response_serial = dashboard.organizations.getOrganizationDevices(ORG_ID)\n",
    "print(response_serial)"
   ]
  },
  {
   "cell_type": "markdown",
   "id": "bec441a2",
   "metadata": {},
   "source": [
    "### Categorizzazione seriali dei dispositivi ☑️"
   ]
  },
  {
   "cell_type": "code",
   "execution_count": 5,
   "id": "0f18d252",
   "metadata": {},
   "outputs": [
    {
     "name": "stdout",
     "output_type": "stream",
     "text": [
      "{0: {'DEVICE_MODEL': 'MV93',\n",
      "     'DEVICE_PRODUCT': 'camera',\n",
      "     'DEVICE_UPLINK': None,\n",
      "     'HAS_A_UPLINK': None,\n",
      "     'MAC_ADDRESS': '08:f1:b3:e3:ae:65',\n",
      "     'NUMBER': 0,\n",
      "     'SERIAL': 'Q2LU-EDMJ-3X4W'},\n",
      " 1: {'DEVICE_MODEL': 'MV93',\n",
      "     'DEVICE_PRODUCT': 'camera',\n",
      "     'DEVICE_UPLINK': None,\n",
      "     'HAS_A_UPLINK': None,\n",
      "     'MAC_ADDRESS': '08:f1:b3:e3:b0:15',\n",
      "     'NUMBER': 1,\n",
      "     'SERIAL': 'Q2LU-UZAF-F8ZH'},\n",
      " 2: {'DEVICE_MODEL': 'MV93',\n",
      "     'DEVICE_PRODUCT': 'camera',\n",
      "     'DEVICE_UPLINK': None,\n",
      "     'HAS_A_UPLINK': None,\n",
      "     'MAC_ADDRESS': '08:f1:b3:e3:ae:fe',\n",
      "     'NUMBER': 2,\n",
      "     'SERIAL': 'Q2LU-XAD9-GLD5'}}\n"
     ]
    }
   ],
   "source": [
    "\n",
    "\n",
    "SERIAL = response_serial[0]['serial']\n",
    "DEVICE_MODEL = response_serial[0]['model']\n",
    "DEVICE_PRODUCT = response_serial[0]['productType']\n",
    "\n",
    "DEVICE = {}\n",
    "i = 0\n",
    "# To specify a range, use slicing. For example, to get the first 3 serials:\n",
    "for device in response_serial[0:3]:\n",
    "    DEVICE[i] = {\n",
    "        \"NUMBER\": i,\n",
    "        \"SERIAL\": device['serial'],\n",
    "        \"DEVICE_MODEL\": device['model'],\n",
    "        \"DEVICE_PRODUCT\": device['productType'],\n",
    "        \"MAC_ADDRESS\" : device['mac'],\n",
    "        \"HAS_A_UPLINK\" : None,\n",
    "        \"DEVICE_UPLINK\" : None\n",
    "    }\n",
    "    i = i+1\n",
    "pprint(DEVICE)\n"
   ]
  },
  {
   "cell_type": "markdown",
   "id": "fe37bf20",
   "metadata": {},
   "source": [
    "### Dispositivi raggiungibili nella rete ☑️"
   ]
  },
  {
   "cell_type": "code",
   "execution_count": 6,
   "id": "076d2f37",
   "metadata": {},
   "outputs": [
    {
     "name": "stderr",
     "output_type": "stream",
     "text": [
      "2025-09-21 13:07:58       meraki:     INFO > GET https://api.meraki.com/api/v1/organizations/1194841/devices/uplinks/addresses/byDevice\n",
      "2025-09-21 13:07:58       meraki:     INFO > organizations, getOrganizationDevicesUplinksAddressesByDevice; page 1 - 200 OK\n"
     ]
    },
    {
     "name": "stdout",
     "output_type": "stream",
     "text": [
      "[{'mac': '08:f1:b3:e3:ae:65',\n",
      "  'name': 'HOM_BIS-MV93',\n",
      "  'network': {'id': 'L_575897802350019550'},\n",
      "  'productType': 'camera',\n",
      "  'serial': 'Q2LU-EDMJ-3X4W',\n",
      "  'tags': [],\n",
      "  'uplinks': [{'addresses': [{'address': '10.20.0.4',\n",
      "                              'assignmentMode': 'dynamic',\n",
      "                              'gateway': '10.20.0.1',\n",
      "                              'nameservers': {'addresses': ['10.20.0.1']},\n",
      "                              'protocol': 'ipv4',\n",
      "                              'public': {'address': '212.105.155.226'},\n",
      "                              'vlan': {'id': '0'}}],\n",
      "               'interface': 'man1'}]}]\n"
     ]
    }
   ],
   "source": [
    "response_uplink = dashboard.organizations.getOrganizationDevicesUplinksAddressesByDevice(ORG_ID, serials=[SERIAL])\n",
    "\n",
    "pprint(response_uplink)"
   ]
  },
  {
   "cell_type": "markdown",
   "id": "1263a333",
   "metadata": {},
   "source": [
    "### Viene effettuata una correlazione tra dispositivi raggiungibili nella rete e dispositivi presenti. Dopodiché, vengono stampati i dispositivi rilevati ☑️"
   ]
  },
  {
   "cell_type": "code",
   "execution_count": 7,
   "id": "aae73fb4",
   "metadata": {},
   "outputs": [
    {
     "name": "stdout",
     "output_type": "stream",
     "text": [
      "{0: {'DEVICE_MODEL': 'MV93',\n",
      "     'DEVICE_PRODUCT': 'camera',\n",
      "     'DEVICE_UPLINK': [{'addresses': [{'address': '10.20.0.4',\n",
      "                                       'assignmentMode': 'dynamic',\n",
      "                                       'gateway': '10.20.0.1',\n",
      "                                       'nameservers': {'addresses': ['10.20.0.1']},\n",
      "                                       'protocol': 'ipv4',\n",
      "                                       'public': {'address': '212.105.155.226'},\n",
      "                                       'vlan': {'id': '0'}}],\n",
      "                        'interface': 'man1'}],\n",
      "     'HAS_A_UPLINK': True,\n",
      "     'MAC_ADDRESS': '08:f1:b3:e3:ae:65',\n",
      "     'NUMBER': 0,\n",
      "     'SERIAL': 'Q2LU-EDMJ-3X4W'},\n",
      " 1: {'DEVICE_MODEL': 'MV93',\n",
      "     'DEVICE_PRODUCT': 'camera',\n",
      "     'DEVICE_UPLINK': None,\n",
      "     'HAS_A_UPLINK': False,\n",
      "     'MAC_ADDRESS': '08:f1:b3:e3:b0:15',\n",
      "     'NUMBER': 1,\n",
      "     'SERIAL': 'Q2LU-UZAF-F8ZH'},\n",
      " 2: {'DEVICE_MODEL': 'MV93',\n",
      "     'DEVICE_PRODUCT': 'camera',\n",
      "     'DEVICE_UPLINK': None,\n",
      "     'HAS_A_UPLINK': False,\n",
      "     'MAC_ADDRESS': '08:f1:b3:e3:ae:fe',\n",
      "     'NUMBER': 2,\n",
      "     'SERIAL': 'Q2LU-XAD9-GLD5'}}\n"
     ]
    }
   ],
   "source": [
    "i = 0\n",
    "UPLINK_DEVICE = {}\n",
    "for device in response_uplink[0:3]:\n",
    "    UPLINK_DEVICE[i] = {\n",
    "        \"NUMBER\": i,\n",
    "        \"SERIAL\": device['serial'],\n",
    "        \"DEVICE_PRODUCT\": device['productType'],\n",
    "        \"DEVICE_UPLINK\" : device['uplinks'] # Uplinks è un dizionario con due campi, indirizzi e interfacce. Indirizzi a sua volta è un dizionario con indirizzo pubblico, modalità di assegnamento, nameserver, interfaccia fisica, protocollo, indirizzo pubblico e vlan di appartenenza\n",
    "    }\n",
    "    i = i+1\n",
    "\n",
    "for idx, device in DEVICE.items():\n",
    "    serial = device[\"SERIAL\"]\n",
    "    uplink_info = next((uplink for uplink in UPLINK_DEVICE.values() if uplink[\"SERIAL\"] == serial), None)\n",
    "    if uplink_info:\n",
    "        DEVICE[idx][\"HAS_A_UPLINK\"] = True\n",
    "        DEVICE[idx][\"DEVICE_UPLINK\"] = uplink_info[\"DEVICE_UPLINK\"]\n",
    "    else:\n",
    "        DEVICE[idx][\"HAS_A_UPLINK\"] = False\n",
    "        DEVICE[idx][\"DEVICE_UPLINK\"] = None\n",
    "\n",
    "pprint(DEVICE)"
   ]
  },
  {
   "cell_type": "markdown",
   "id": "ff557e77",
   "metadata": {},
   "source": [
    "### Vengono individuate le camere ☑️"
   ]
  },
  {
   "cell_type": "code",
   "execution_count": 8,
   "id": "3634f9a6",
   "metadata": {},
   "outputs": [],
   "source": [
    "# Trova il seriale di un dispositivo che è una camera\n",
    "SERIAL_CAMERA = 'Q2LU-EDMJ-3X4W'\n"
   ]
  },
  {
   "cell_type": "code",
   "execution_count": 9,
   "id": "29e02840",
   "metadata": {},
   "outputs": [],
   "source": [
    "name = 'MQTT_Broker'\n",
    "host = 'mqtt.merakiabitarein.app'\n",
    "port = 80\n"
   ]
  },
  {
   "cell_type": "markdown",
   "id": "ea02e4a3",
   "metadata": {},
   "source": [
    "### Impostazione MQTT broker nella rete(da fare una sola volta) ☑️"
   ]
  },
  {
   "cell_type": "code",
   "execution_count": 26,
   "id": "c5f93cb3",
   "metadata": {},
   "outputs": [
    {
     "name": "stderr",
     "output_type": "stream",
     "text": [
      "2025-09-21 13:06:43       meraki:     INFO > POST https://api.meraki.com/api/v1/networks/L_575897802350018094/mqttBrokers\n",
      "2025-09-21 13:06:43       meraki:     INFO > networks, createNetworkMqttBroker - 201 Created\n"
     ]
    },
    {
     "name": "stdout",
     "output_type": "stream",
     "text": [
      "{'id': '575897802350003148', 'name': 'MQTT_Broker', 'host': 'mqtt.merakiabitarein.app', 'port': 80, 'security': {'mode': 'none', 'tls': {'hasCaCertificate': False, 'verifyHostnames': True}}, 'authentication': {'username': 'abitarein'}}\n"
     ]
    }
   ],
   "source": [
    "\n",
    "try:\n",
    "    response = dashboard.networks.createNetworkMqttBroker(\n",
    "        NETWORK_ID,\n",
    "        name=name,\n",
    "        host=host,\n",
    "        port=port,\n",
    "        security={'mode': 'none'},\n",
    "        authentication={'username': 'abitarein', 'password': 'abitarein'}\n",
    "    )\n",
    "    print(response)\n",
    "except meraki.APIError as e:\n",
    "    print(\"Meraki API Error:\", e)\n",
    "    print(\"Response:\", e.response.text)\n",
    "except Exception as ex:\n",
    "    print(\"General Exception:\", ex)"
   ]
  },
  {
   "cell_type": "markdown",
   "id": "bf5a38f2",
   "metadata": {},
   "source": [
    "### Imposta MVSense con MQTT Broker (Da fare una sola volta)"
   ]
  },
  {
   "cell_type": "code",
   "execution_count": 12,
   "id": "7f7a5f5c",
   "metadata": {},
   "outputs": [
    {
     "name": "stderr",
     "output_type": "stream",
     "text": [
      "2025-09-21 13:09:05       meraki:     INFO > PUT https://api.meraki.com/api/v1/devices/Q2LU-EDMJ-3X4W/camera/sense\n",
      "2025-09-21 13:09:06       meraki:     INFO > camera, updateDeviceCameraSense - 200 OK\n"
     ]
    },
    {
     "name": "stdout",
     "output_type": "stream",
     "text": [
      "{'senseEnabled': True, 'mqttBrokerId': '575897802350003147', 'mqttTopics': ['/merakimv/Q2LU-EDMJ-3X4W/575897802350002810', '/merakimv/Q2LU-EDMJ-3X4W/raw_detections', '/merakimv/Q2LU-EDMJ-3X4W/light'], 'audioDetection': {'enabled': False}, 'detectionModelId': '1'}\n"
     ]
    }
   ],
   "source": [
    "response_set_mvsense = dashboard.camera.updateDeviceCameraSense(\n",
    "    SERIAL_CAMERA, \n",
    "    senseEnabled=True, \n",
    "    mqttBrokerId=cr.MQTT_BROKER_ID_THU, \n",
    "    audioDetection={'enabled': False}\n",
    ")\n",
    "\n",
    "print(response_set_mvsense)\n",
    "\n"
   ]
  },
  {
   "cell_type": "markdown",
   "id": "629141f7",
   "metadata": {},
   "source": [
    "#### Codice broker mqtt"
   ]
  },
  {
   "cell_type": "code",
   "execution_count": 14,
   "id": "8b9d32b9",
   "metadata": {},
   "outputs": [
    {
     "name": "stdout",
     "output_type": "stream",
     "text": [
      "Subscribed to topic: /testopic\n",
      "MQTT client started.\n",
      "Stopped MQTT client.\n"
     ]
    }
   ],
   "source": [
    "import time\n",
    "\n",
    "import paho.mqtt.client as mqtt\n",
    "\n",
    "def start_meraki_camera_mqtt_client():\n",
    "    topic = f\"/testopic\"\n",
    "    broker = 'mqtt.merakiabitarein.app'\n",
    "    port_num = 80\n",
    "    username = \"abitarein\"\n",
    "    password = \"abitarein\"\n",
    "\n",
    "    def on_connect(client, userdata, flags, reason_code, properties):\n",
    "        print(f\"Connected with result code {reason_code}\")\n",
    "        # Subscribing in on_connect() means that if we lose the connection and\n",
    "        # reconnect then subscriptions will be renewed.\n",
    "        client.subscribe(\"$SYS/#\")\n",
    "\n",
    "    # The callback for when a PUBLISH message is received from the server.\n",
    "    def on_message(client, userdata, msg):\n",
    "        print(msg.topic+\" \"+str(msg.payload))\n",
    "\n",
    "    client = mqtt.Client(callback_api_version=mqtt.CallbackAPIVersion.VERSION2, client_id=\"pclient\")\n",
    "    client.username_pw_set(username, password)\n",
    "    client.on_message = on_message\n",
    "    client.on_connect = on_connect\n",
    "\n",
    "    client.connect(broker, port_num,60)\n",
    "    client.subscribe(topic)\n",
    "\n",
    "    print(f\"Subscribed to topic: {topic}\")\n",
    "    client.loop_start()\n",
    "    print(\"MQTT client started.\")\n",
    "\n",
    "start_meraki_camera_mqtt_client()\n",
    "\n",
    "\n",
    "try:\n",
    "    while True:\n",
    "        time.sleep(1)\n",
    "except KeyboardInterrupt:\n",
    "    print(\"Stopped MQTT client.\")\n"
   ]
  },
  {
   "cell_type": "markdown",
   "id": "df384941",
   "metadata": {},
   "source": [
    "#### publisher mqtt\n"
   ]
  },
  {
   "cell_type": "code",
   "execution_count": 35,
   "id": "72e015e0",
   "metadata": {},
   "outputs": [
    {
     "name": "stdout",
     "output_type": "stream",
     "text": [
      "published\n",
      "published\n",
      "published\n",
      "published\n",
      "published\n",
      "published\n",
      "published\n",
      "published\n",
      "published\n",
      "published\n",
      "published\n",
      "published\n",
      "published\n",
      "published\n",
      "published\n",
      "published\n",
      "published\n",
      "published\n",
      "published\n",
      "published\n",
      "published\n",
      "published\n",
      "published\n"
     ]
    },
    {
     "ename": "KeyboardInterrupt",
     "evalue": "",
     "output_type": "error",
     "traceback": [
      "\u001b[31m---------------------------------------------------------------------------\u001b[39m",
      "\u001b[31mKeyboardInterrupt\u001b[39m                         Traceback (most recent call last)",
      "\u001b[36mCell\u001b[39m\u001b[36m \u001b[39m\u001b[32mIn[35]\u001b[39m\u001b[32m, line 14\u001b[39m\n\u001b[32m     12\u001b[39m client.publish(topic = \u001b[33m\"\u001b[39m\u001b[33m/testopic\u001b[39m\u001b[33m\"\u001b[39m,  payload = randNumber)\n\u001b[32m     13\u001b[39m \u001b[38;5;28mprint\u001b[39m(\u001b[33m\"\u001b[39m\u001b[33mpublished\u001b[39m\u001b[33m\"\u001b[39m)\n\u001b[32m---> \u001b[39m\u001b[32m14\u001b[39m \u001b[43mtime\u001b[49m\u001b[43m.\u001b[49m\u001b[43msleep\u001b[49m\u001b[43m(\u001b[49m\u001b[32;43m1\u001b[39;49m\u001b[43m)\u001b[49m\n",
      "\u001b[31mKeyboardInterrupt\u001b[39m: "
     ]
    }
   ],
   "source": [
    "from random import randrange, uniform\n",
    "import time\n",
    "\n",
    "broker = \"mqtt.merakiabitarein.app\"\n",
    "port = 80\n",
    "client = mqtt.Client(callback_api_version=mqtt.CallbackAPIVersion.VERSION2, client_id=\"prova\")\n",
    "client.username_pw_set(\"abitarein\", \"abitarein\")\n",
    "client.connect(broker, port)\n",
    "\n",
    "while True:\n",
    "    randNumber = uniform(20.0, 21.0)\n",
    "    client.publish(topic = \"/testopic\",  payload = randNumber)\n",
    "    print(\"published\")\n",
    "    time.sleep(1)\n"
   ]
  }
 ],
 "metadata": {
  "kernelspec": {
   "display_name": "Python 3",
   "language": "python",
   "name": "python3"
  },
  "language_info": {
   "codemirror_mode": {
    "name": "ipython",
    "version": 3
   },
   "file_extension": ".py",
   "mimetype": "text/x-python",
   "name": "python",
   "nbconvert_exporter": "python",
   "pygments_lexer": "ipython3",
   "version": "3.13.7"
  }
 },
 "nbformat": 4,
 "nbformat_minor": 5
}
